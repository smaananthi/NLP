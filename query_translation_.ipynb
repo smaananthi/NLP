{
  "cells": [
    {
      "cell_type": "markdown",
      "id": "2123023e",
      "metadata": {
        "id": "2123023e"
      },
      "source": [
        "# QUERY TRANSLATION\n",
        "Query translation involves converting a user's search query from one language or syntax to another, enabling interaction with systems and databases. It's vital for multilingual search engines, database management, natural language processing, and cross-language information retrieval. Techniques like machine translation and rule-based methods are used for accurate and efficient translations, ensuring users can search and interact in their preferred language or format.\n",
        "\n",
        "## From a sample data\n",
        "     - Install dependencies\n",
        "     - Sematic search\n",
        "     - Query translation models\n",
        "     - Natural language filtering\n",
        "     - Query translation with application\n",
        "\n",
        "## Processing data from a PDF\n",
        "     - Install dependencies\n",
        "     - PDF text extraction\n",
        "     - Splitting text\n",
        "     - Creating index\n",
        "     - Semantic search\n",
        "     - Get French query from the user"
      ]
    },
    {
      "cell_type": "markdown",
      "id": "c22231fd",
      "metadata": {
        "id": "c22231fd"
      },
      "source": [
        "## INSTALL DEPENDENCIES"
      ]
    },
    {
      "cell_type": "code",
      "execution_count": null,
      "id": "18dae972",
      "metadata": {
        "id": "18dae972",
        "outputId": "18f94204-b526-4c59-9437-4dc625b47690"
      },
      "outputs": [
        {
          "name": "stderr",
          "output_type": "stream",
          "text": [
            "UsageError: unrecognized arguments: output that would normally be printed as output area is captured and stored in a variable.\n"
          ]
        }
      ],
      "source": [
        "%%capture #any output that would normally be printed as output area is captured and stored in a variable.\n",
        "!pip install git+https://github.com/neuml/txtai#egg=txtai[pipeline]"
      ]
    },
    {
      "cell_type": "markdown",
      "id": "09ad41f9",
      "metadata": {
        "id": "09ad41f9"
      },
      "source": [
        "## SEMATIC SEARCH"
      ]
    },
    {
      "cell_type": "markdown",
      "id": "dc4d797d",
      "metadata": {
        "id": "dc4d797d"
      },
      "source": [
        "Semantic search is a search technique that aims to improve the accuracy of search results by understanding the intent and contextual meaning of a user's query, rather than relying solely on keyword matching. Unlike traditional search methods, which match search queries with specific keywords, semantic search takes into account the context, intent, and the relationship between words in a query to provide more relevant and meaningful results.\n",
        "\n"
      ]
    },
    {
      "cell_type": "code",
      "execution_count": null,
      "id": "ca7e6efe",
      "metadata": {
        "id": "ca7e6efe"
      },
      "outputs": [],
      "source": [
        "from txtai.embeddings import Embeddings # used this to perform various operations on textual data."
      ]
    },
    {
      "cell_type": "code",
      "execution_count": null,
      "id": "28e5a29c",
      "metadata": {
        "scrolled": false,
        "id": "28e5a29c",
        "outputId": "0b818943-8b8c-4000-9f75-1105d82808c6"
      },
      "outputs": [
        {
          "name": "stdout",
          "output_type": "stream",
          "text": [
            "RESULT:\n",
            "[{'id': '1', 'text': 'Last week Scientific Breakthrough Revolutionizes Medical Treatment regarding COVID-19', 'score': 0.5100634098052979}]\n"
          ]
        }
      ],
      "source": [
        "# Sample data: List of news articles\n",
        "news = [\"Historical Discovery Sheds New Light on Ancient Civilization\",\n",
        "        \"Last week Scientific Breakthrough Revolutionizes Medical Treatment regarding COVID-19\",\n",
        "        \"COVID-19 Vaccination Rates Continue to Rise Across the Country\",\n",
        "        \"Facts Reveal Stunning Insights into Climate Change\",\n",
        "        \"Proverb: A stitch in time saves nine - Wise words for proactive action\",\n",
        "        \"Hi, Is it raining?\"\n",
        "]\n",
        "\n",
        "# Initialize Txtai's Embeddings class with a suitable pre-trained model\n",
        "embeddings = Embeddings({\"path\": \"sentence-transformers/nli-mpnet-base-v2\", \"content\": True})\n",
        "\n",
        "# Index the weekly news articles\n",
        "embeddings.index([(uid, text, None) for uid, text in enumerate(news)])\n",
        "\n",
        "# Run a search for \"COVID-19\" and retrieve the top 1 result\n",
        "result = embeddings.search(\"COVID-19\", 1)\n",
        "print(\"RESULT:\")\n",
        "print(result)"
      ]
    },
    {
      "cell_type": "markdown",
      "id": "0fd9f38a",
      "metadata": {
        "id": "0fd9f38a"
      },
      "source": [
        "# QUERY TRANSLATION MODELS"
      ]
    },
    {
      "cell_type": "code",
      "execution_count": null,
      "id": "2d66758d",
      "metadata": {
        "id": "2d66758d"
      },
      "outputs": [],
      "source": [
        "from txtai.pipeline import Sequences # work with sequence-related tasks such as text summarization, text generation"
      ]
    },
    {
      "cell_type": "code",
      "execution_count": null,
      "id": "c710b509",
      "metadata": {
        "id": "c710b509",
        "outputId": "c90c021f-77c6-4b23-990e-72c683c088f6"
      },
      "outputs": [
        {
          "name": "stdout",
          "output_type": "stream",
          "text": [
            "Input: COVID\n",
            "SQL: select id, text, score from txtai where similar('COVID')\n",
            "\n",
            "Input: COVID-19\n",
            "SQL: select id, text, score from txtai where similar('COVID-19')\n",
            "\n",
            "Input: vaccination\n",
            "SQL: select id, text, score from txtai where similar('vaccination')\n",
            "\n",
            "Input: COVID vaccination\n",
            "SQL: select id, text, score from txtai where similar('COVID vaccination')\n",
            "\n",
            "Input: COVID OR pandemic\n",
            "SQL: select id, text, score from txtai where similar('COVID') or pandemic\n",
            "\n",
            "Input: COVID NOT vaccination\n",
            "SQL: select id, text, score from txtai where similar('COVID NOT vaccination')\n",
            "\n",
            "Input: COVID cases rise\n",
            "SQL: select id, text, score from txtai where similar('COVID cases rise')\n",
            "\n",
            "Input: COVID-19 OR coronavirus\n",
            "SQL: select id, text, score from txtai where similar('COVID-19') and entry >= date('now', '-1 day')\n",
            "\n",
            "Input: COVID cases rise to 1000\n",
            "SQL: select id, text, score from txtai where similar('COVID cases') and entry >= date('now', '-1 day')\n",
            "\n",
            "Input: COVID cases in India\n",
            "SQL: select id, text, score from txtai where similar('COVID cases') and entry >= date('now', '-1 day')\n",
            "\n",
            "Input: COVID fever and cough\n",
            "SQL: select id, text, score from txtai where similar('COVID fever') and cough\n",
            "\n"
          ]
        }
      ],
      "source": [
        "#initialized with the pre-trained T5 mode\n",
        "sequences = Sequences(\"NeuML/t5-small-txtsql\")\n",
        "\n",
        "#List of Queries\n",
        "queries = [\"COVID\",\n",
        "           \"COVID-19\",\n",
        "           \"vaccination\",\n",
        "           \"COVID vaccination\",\n",
        "           \"COVID OR pandemic\",\n",
        "           \"COVID NOT vaccination\",\n",
        "           \"COVID cases rise\",\n",
        "           \"COVID-19 OR coronavirus\",\n",
        "           \"COVID cases rise to 1000\",\n",
        "           \"COVID cases in India\",\n",
        "           \"COVID fever and cough\"]\n",
        "\n",
        "# Prefix to pass to T5 model before each English query when translating it to SQL\n",
        "prefix = \"translate English to SQL: \"\n",
        "\n",
        "for query in queries:\n",
        "    print(f\"Input: {query}\") # original English query\n",
        "    print(f\"SQL: {sequences(query, prefix)}\") #passes the English query along with the specified prefix to the T5 model\n",
        "    print() #add an empty line for better readability in the output.\n",
        ""
      ]
    },
    {
      "cell_type": "markdown",
      "id": "efa07a5d",
      "metadata": {
        "id": "efa07a5d"
      },
      "source": [
        "# NATURAL LANGUAGE FILTERING"
      ]
    },
    {
      "cell_type": "code",
      "execution_count": null,
      "id": "7bae7dcd",
      "metadata": {
        "id": "7bae7dcd"
      },
      "outputs": [],
      "source": [
        "from txtai.pipeline import Translation # perform translation tasks using the txtai library.\n"
      ]
    },
    {
      "cell_type": "code",
      "execution_count": null,
      "id": "12754bd5",
      "metadata": {
        "scrolled": false,
        "id": "12754bd5",
        "outputId": "d5474cd0-2b36-4dfc-b046-f528933219ab"
      },
      "outputs": [
        {
          "data": {
            "text/plain": [
              "{'id': '1', 'score': 0.5100634098052979, 'text': None}"
            ]
          },
          "execution_count": 7,
          "metadata": {},
          "output_type": "execute_result"
        }
      ],
      "source": [
        "# Initialize the Translation class\n",
        "translation = Translation()\n",
        "\n",
        "#  Define the translate function using the translation instance\n",
        "def translate(text, lang):\n",
        "    try:\n",
        "        translated_text = translation(text, lang)\n",
        "        return translated_text\n",
        "    except Exception:\n",
        "        return None\n",
        "\n",
        "\n",
        "# Create embeddings index with content enabled. The default behavior is to only store indexed vectors.\n",
        "embeddings = Embeddings({\"path\": \"sentence-transformers/nli-mpnet-base-v2\",\n",
        "                         \"content\": True,\n",
        "                         \"query\": {\"path\": \"NeuML/t5-small-txtsql\"},\n",
        "                         \"functions\": [translate]})\n",
        "\n",
        "# Create an index for the list of text\n",
        "embeddings.index([(uid, text, None) for uid, text in enumerate(news)])\n",
        "\n",
        "query = \"select id, score, translate(text, 'de') 'text' from txtai where similar('COVID-19')\"\n",
        "\n",
        "# Run a search using a custom SQL function\n",
        "embeddings.search(query)[0]"
      ]
    },
    {
      "cell_type": "code",
      "execution_count": null,
      "id": "5dbe8b5c",
      "metadata": {
        "id": "5dbe8b5c",
        "outputId": "783b36cf-96f9-45de-8a61-d353b821debb"
      },
      "outputs": [
        {
          "data": {
            "text/plain": [
              "{'id': '1',\n",
              " 'text': 'Last week Scientific Breakthrough Revolutionizes Medical Treatment regarding COVID-19',\n",
              " 'score': 0.36603784561157227}"
            ]
          },
          "execution_count": 8,
          "metadata": {},
          "output_type": "execute_result"
        }
      ],
      "source": [
        "embeddings.search(\"COVID\")[0]"
      ]
    },
    {
      "cell_type": "code",
      "execution_count": null,
      "id": "cc97b99f",
      "metadata": {
        "id": "cc97b99f",
        "outputId": "8ded1fcb-863e-48ec-c515-2cd19d55d196"
      },
      "outputs": [
        {
          "data": {
            "text/plain": [
              "{'id': '1',\n",
              " 'text': 'Last week Scientific Breakthrough Revolutionizes Medical Treatment regarding COVID-19',\n",
              " 'score': 0.5286498665809631}"
            ]
          },
          "execution_count": 9,
          "metadata": {},
          "output_type": "execute_result"
        }
      ],
      "source": [
        "embeddings.search(\"COVID-19 news\")[0]"
      ]
    },
    {
      "cell_type": "code",
      "execution_count": null,
      "id": "cb10b1e8",
      "metadata": {
        "id": "cb10b1e8",
        "outputId": "936d56a3-ab9c-476e-e037-17a446ea3911"
      },
      "outputs": [
        {
          "data": {
            "text/plain": [
              "{'id': '2',\n",
              " 'text': 'COVID-19 Vaccination Rates Continue to Rise Across the Country',\n",
              " 'score': 0.510772168636322}"
            ]
          },
          "execution_count": 10,
          "metadata": {},
          "output_type": "execute_result"
        }
      ],
      "source": [
        "embeddings.search(\"vaccination\")[0]"
      ]
    },
    {
      "cell_type": "code",
      "execution_count": null,
      "id": "18a228a1",
      "metadata": {
        "id": "18a228a1",
        "outputId": "cdae7061-2e98-4fea-af05-d44700ef3825"
      },
      "outputs": [
        {
          "data": {
            "text/plain": [
              "{'id': '2',\n",
              " 'text': 'COVID-19 Vaccination Rates Continue to Rise Across the Country',\n",
              " 'score': 0.513064444065094}"
            ]
          },
          "execution_count": 11,
          "metadata": {},
          "output_type": "execute_result"
        }
      ],
      "source": [
        "embeddings.search(\"COVID vaccination\")[0]"
      ]
    },
    {
      "cell_type": "code",
      "execution_count": null,
      "id": "7c09e865",
      "metadata": {
        "id": "7c09e865",
        "outputId": "8d8d3150-8d16-442b-9908-712d9a45df9d"
      },
      "outputs": [
        {
          "data": {
            "text/plain": [
              "{'id': '1',\n",
              " 'text': 'Last week Scientific Breakthrough Revolutionizes Medical Treatment regarding COVID-19',\n",
              " 'score': 0.36603784561157227}"
            ]
          },
          "execution_count": 12,
          "metadata": {},
          "output_type": "execute_result"
        }
      ],
      "source": [
        "embeddings.search(\"COVID OR pandemic\")[0]"
      ]
    },
    {
      "cell_type": "code",
      "execution_count": null,
      "id": "31731381",
      "metadata": {
        "id": "31731381",
        "outputId": "bc8a551a-3bf7-462e-96ed-c41b541b8071"
      },
      "outputs": [
        {
          "data": {
            "text/plain": [
              "{'id': '2',\n",
              " 'text': 'COVID-19 Vaccination Rates Continue to Rise Across the Country',\n",
              " 'score': 0.2103043645620346}"
            ]
          },
          "execution_count": 13,
          "metadata": {},
          "output_type": "execute_result"
        }
      ],
      "source": [
        "embeddings.search(\"COVID NOT vaccination\")[0]"
      ]
    },
    {
      "cell_type": "code",
      "execution_count": null,
      "id": "6f8ac935",
      "metadata": {
        "id": "6f8ac935",
        "outputId": "f5652bbb-b7f8-4cb7-9338-eb231b6ce781"
      },
      "outputs": [
        {
          "data": {
            "text/plain": [
              "{'id': '2',\n",
              " 'text': 'COVID-19 Vaccination Rates Continue to Rise Across the Country',\n",
              " 'score': 0.4123527407646179}"
            ]
          },
          "execution_count": 14,
          "metadata": {},
          "output_type": "execute_result"
        }
      ],
      "source": [
        "embeddings.search(\"COVID cases rise\")[0]"
      ]
    },
    {
      "cell_type": "code",
      "execution_count": null,
      "id": "e053a33c",
      "metadata": {
        "id": "e053a33c",
        "outputId": "6bf50d49-494e-40aa-f027-89d33b1e88f8"
      },
      "outputs": [
        {
          "data": {
            "text/plain": [
              "{'id': '1',\n",
              " 'text': 'Last week Scientific Breakthrough Revolutionizes Medical Treatment regarding COVID-19',\n",
              " 'score': 0.5100634098052979}"
            ]
          },
          "execution_count": 15,
          "metadata": {},
          "output_type": "execute_result"
        }
      ],
      "source": [
        "embeddings.search(\"COVID-19 OR coronavirus\")[0]"
      ]
    },
    {
      "cell_type": "code",
      "execution_count": null,
      "id": "ec35cdfd",
      "metadata": {
        "id": "ec35cdfd",
        "outputId": "7eb2ccab-1912-45b6-9bde-6b86e4613a46"
      },
      "outputs": [
        {
          "data": {
            "text/plain": [
              "{'id': '1',\n",
              " 'text': 'Last week Scientific Breakthrough Revolutionizes Medical Treatment regarding COVID-19',\n",
              " 'score': 0.33649733662605286}"
            ]
          },
          "execution_count": 16,
          "metadata": {},
          "output_type": "execute_result"
        }
      ],
      "source": [
        "embeddings.search(\"COVID cases rise to 1000\")[0]"
      ]
    },
    {
      "cell_type": "code",
      "execution_count": null,
      "id": "62bb1e90",
      "metadata": {
        "id": "62bb1e90",
        "outputId": "df7c4605-4048-4c6e-d236-4398700fc680"
      },
      "outputs": [
        {
          "data": {
            "text/plain": [
              "{'id': '1',\n",
              " 'text': 'Last week Scientific Breakthrough Revolutionizes Medical Treatment regarding COVID-19',\n",
              " 'score': 0.33649733662605286}"
            ]
          },
          "execution_count": 17,
          "metadata": {},
          "output_type": "execute_result"
        }
      ],
      "source": [
        "embeddings.search(\"COVID cases in India\")[0]"
      ]
    },
    {
      "cell_type": "code",
      "execution_count": null,
      "id": "2b9cabe5",
      "metadata": {
        "scrolled": true,
        "id": "2b9cabe5",
        "outputId": "62fca3e4-9ccf-4fcd-a27e-57e888bd4c68"
      },
      "outputs": [
        {
          "data": {
            "text/plain": [
              "{'id': '1',\n",
              " 'text': 'Last week Scientific Breakthrough Revolutionizes Medical Treatment regarding COVID-19',\n",
              " 'score': 0.5100634098052979}"
            ]
          },
          "execution_count": 18,
          "metadata": {},
          "output_type": "execute_result"
        }
      ],
      "source": [
        "embeddings.search(\"COVID-19\")[0]"
      ]
    },
    {
      "cell_type": "code",
      "execution_count": null,
      "id": "1270b270",
      "metadata": {
        "id": "1270b270",
        "outputId": "080e7f4c-b4f3-4f5d-b8fc-a82087913665"
      },
      "outputs": [
        {
          "data": {
            "text/plain": [
              "[]"
            ]
          },
          "execution_count": 19,
          "metadata": {},
          "output_type": "execute_result"
        }
      ],
      "source": [
        "embeddings.search(\"COVID-19 missing in text\")"
      ]
    },
    {
      "cell_type": "markdown",
      "id": "4401df26",
      "metadata": {
        "id": "4401df26"
      },
      "source": [
        "# QUERY TRANSLATION WITH APPLICATION"
      ]
    },
    {
      "cell_type": "code",
      "execution_count": null,
      "id": "92bf4c87",
      "metadata": {
        "id": "92bf4c87"
      },
      "outputs": [],
      "source": [
        "config = \"\"\"\n",
        "translation:\n",
        "\n",
        "writable: true\n",
        "embeddings:\n",
        "  path: sentence-transformers/nli-mpnet-base-v2\n",
        "  content: true\n",
        "  query:\n",
        "    path: NeuML/t5-small-txtsql\n",
        "  functions:\n",
        "    - {name: translate, argcount: 2, function: translation}\n",
        "\"\"\"\n",
        "\n"
      ]
    },
    {
      "cell_type": "code",
      "execution_count": null,
      "id": "7d265ed0",
      "metadata": {
        "id": "7d265ed0"
      },
      "outputs": [],
      "source": [
        "from txtai.app import Application"
      ]
    },
    {
      "cell_type": "code",
      "execution_count": null,
      "id": "263f7e6b",
      "metadata": {
        "id": "263f7e6b",
        "outputId": "5e78b6b3-b9a9-4d1a-d5e4-dfe963d69988"
      },
      "outputs": [
        {
          "data": {
            "text/plain": [
              "{'id': '1',\n",
              " 'text': 'Last week Scientific Breakthrough Revolutionizes Medical Treatment regarding COVID-19',\n",
              " 'score': 0.5100634098052979}"
            ]
          },
          "execution_count": 22,
          "metadata": {},
          "output_type": "execute_result"
        }
      ],
      "source": [
        "# Build application and index data\n",
        "app = Application(config)\n",
        "app.add([{\"id\": x, \"text\": row} for x, row in enumerate(news)])\n",
        "app.index()\n",
        "\n",
        "# Run search query\n",
        "app.search(\"COVID-19\")[0]"
      ]
    },
    {
      "cell_type": "markdown",
      "id": "ee1c9e40",
      "metadata": {
        "id": "ee1c9e40"
      },
      "source": [
        "# QUERY TRANSLATION\n",
        "## - Processing data from a PDF"
      ]
    },
    {
      "cell_type": "markdown",
      "id": "fca52f37",
      "metadata": {
        "id": "fca52f37"
      },
      "source": [
        "## INSTALL DEPENDENCIES"
      ]
    },
    {
      "cell_type": "code",
      "execution_count": null,
      "id": "9777d20d",
      "metadata": {
        "scrolled": true,
        "id": "9777d20d"
      },
      "outputs": [],
      "source": [
        "#!pip install langchain\n",
        "#!pip install pypdf"
      ]
    },
    {
      "cell_type": "code",
      "execution_count": null,
      "id": "84d137bf",
      "metadata": {
        "id": "84d137bf"
      },
      "outputs": [],
      "source": [
        "%%capture\n",
        "\n",
        "from langchain.text_splitter import RecursiveCharacterTextSplitter\n",
        "from txtai.embeddings import Embeddings\n",
        "from langchain.document_loaders import PyPDFLoader\n",
        "import glob"
      ]
    },
    {
      "cell_type": "markdown",
      "id": "328d33bd",
      "metadata": {
        "id": "328d33bd"
      },
      "source": [
        "## PDF Text Extraction"
      ]
    },
    {
      "cell_type": "code",
      "execution_count": null,
      "id": "5c4ad4b8",
      "metadata": {
        "id": "5c4ad4b8",
        "outputId": "40f09aa1-0efb-47fc-e81b-22e894aff7b2"
      },
      "outputs": [
        {
          "name": "stdout",
          "output_type": "stream",
          "text": [
            "PDF text extraction successful!\n"
          ]
        }
      ],
      "source": [
        "pdf_text = []\n",
        "pdf_file_path = 'E:/Research_on_Machine_Learning_and_Its_Algorithms_an.pdf'\n",
        "\n",
        "try:\n",
        "    loader = PyPDFLoader(pdf_file_path)\n",
        "    pages = loader.load()\n",
        "    pdf_text.extend(pages)\n",
        "    print(\"PDF text extraction successful!\")\n",
        "except Exception as e:\n",
        "    print(f\"Error: {e}\")\n"
      ]
    },
    {
      "cell_type": "markdown",
      "id": "8c1a2651",
      "metadata": {
        "id": "8c1a2651"
      },
      "source": [
        "## SPILTING TEXT"
      ]
    },
    {
      "cell_type": "code",
      "execution_count": null,
      "id": "d2fe3184",
      "metadata": {
        "id": "d2fe3184"
      },
      "outputs": [],
      "source": [
        "document_splitter = RecursiveCharacterTextSplitter(chunk_size=350,\n",
        "                                                   chunk_overlap=25,\n",
        "                                                   length_function=len)\n",
        "\n",
        "\n"
      ]
    },
    {
      "cell_type": "code",
      "execution_count": null,
      "id": "4d117648",
      "metadata": {
        "id": "4d117648",
        "outputId": "f7b413d1-3b7e-4ee0-bd46-c4915479540e"
      },
      "outputs": [
        {
          "name": "stdout",
          "output_type": "stream",
          "text": [
            "page_content='Journal of Physics: Conference Series\\nPAPER • OPEN ACCESS\\nResearch on Machine Learning and Its Algorithms and Development\\nTo cite this article: Wei Jin 2020 J. Phys.: Conf. Ser. 1544 012003\\n\\xa0\\nView the article online  for updates and enhancements. \\n \\nThis content was downloaded from IP address 158.46.154.149 on 03/06/2020 at 13:35' metadata={'source': 'E:/Research_on_Machine_Learning_and_Its_Algorithms_an.pdf', 'page': 0}\n",
            "page_content=\"Content from this work may be used under the terms of the Creative Commons Attribution 3.0 licence. Any further distribution\\nof this work must maintain attribution to the author(s) and the title of the work, journal citation and DOI.\\nPublished under licence by IOP Publishing LtdICSP 2020 \\nJournal of Physics: Conference Series 1544  (2020) 012003 IOP Publishing \\ndoi:10.1088/1742-6596/1544/1/012003 \\n1Research on Machine Learning and Its Algorithms and \\nDevelopment  \\nWei Jin  \\nNorthwestern Polytechnical University Ming De College ，Xi’an, Shaanxi, China  \\nAbstract:  This article analyzes the basic classification of machine learning, including \\nsupervised learning, unsupervised learning, and reinforcement learning. It combines analysis \\non common algorithms in machine learning, such as decision tree algorithm, random fo rest \\nalgorithm, artificial neural network algorithm, SVM algorithm, Boosting and Bagging \\nalgorithm, BP algorithm. Through the development of theoretical systems, further \\nimprovement of autonomous learning capabilities, the integration of multiple digital \\ntechnologies, and the promotion of personalized custom services, the purpose is to improve \\npeople's awareness of machine learning and accelerate the speed of popularization of machine \\nlearning.  \\n1. Introduction  \\nWith the rapid development of science and technolo gy, artificial intelligence has also ushered in new \\ndevelopment opportunities. Machine technology based on computer technology incorporates \\nmultidisciplinary theoretical knowledge, such as statistics and algorithm complexity, which further \\nstrengthens the functional attributes of artificial intelligence. By doing a reasonable analysis of \\nmachine learning algorithms, it can provide direction reference for subsequent machine learning \\ndevelopment, thereby improving the applicability of machine learning algorit hms and providing more \\nconvenience for the economic development of the industry.  \\n2. Basic Classification of Machine Learning  \\n2.1. Supervised Learning  \\nIn the process of machine learning, supervised learning belongs to a relatively basic learning method. \\nThis learni ng method refers to the establishment of corresponding learning goals by people before \\nlearning. During the initial training of the machine, the machine relies on information technology to \\nlearn the needs of learning. In order to collect basic data informa tion, we are supposed to gradually \\ncomplete the required learning content in a supervised environment. Compared with other learning \\nmethods, supervised learning can fully stimulate the generalized learning potential of the machine \\nitself. After completing the system learning, it can help people to solve some classification or \\nregression problems, which is highly systematic. Currently, the classic learning methods commonly \\nused include BN, SVN, KNN, etc. Because the entire learning process has purpose, the m achine \\nlearning process presents a certain regularity, and the learning content is more systematic [1].  \\n2.2. Unsupervised Learning  \\nCorresponding to supervised learning is unsupervised learning. The so -called unsupervised learning \\nmeans that the machine does not  mark the content in a certain direction during the entire learning \" metadata={'source': 'E:/Research_on_Machine_Learning_and_Its_Algorithms_an.pdf', 'page': 1}\n",
            "page_content='ICSP 2020 \\nJournal of Physics: Conference Series 1544  (2020) 012003 IOP Publishing \\ndoi:10.1088/1742-6596/1544/1/012003 \\n2process, but rely on the machine itself to complete the analysis of data information. In practice, the \\noperation method is to let the machine learn the basic concepts and content, and then  give the machine \\nenough freedom to complete a series of content learning, including concepts and content similar to the \\nbasic principles, such as tree roots. In general, the continuous improvement of learning in stages has \\nincreased the breadth of machine  learning content. At present, unsupervised learning includes \\nalgorithms such as deep belief networks and autoencoders. Such situations are conducive to the \\nsolution of clustering problems and have good applications in the development of many industries [2 ]. \\n2.3. Reinforcement Learning  \\nIn addition to supervised learning and unsupervised learning, there are also application methods of \\nreinforcement learning in machine learning. The so -called reinforcement learning is the systematic \\nlearning of a certain content. In the specific application process, the data collected in the previous \\nperiod will be used. It organizes and processes the feedback information of a certain part to form a \\nclosed loop of data processing. On the whole, reinforcement learning is a type of l earning method that \\nexpands data collection based on statistics and dynamic learning. Such methods are mainly used to \\nsolve the control problem of robots. Its representative learning methods include Q -learning algorithm \\nand Temporal difference learning alg orithm.  \\n3. Analysis of Commonly Used Algorithms for Machine Learning  \\n3.1. Decision Tree Algorithm  \\nAmong the commonly used algorithms for machine learning, the decision tree algorithm belongs to \\nthe classic algorithm content. Its working principle is that when proc essing data information, it starts \\nfrom the root node of the collection instance and reaches the position where the nodes meet to make it \\ncomplete. Scientific division of practical examples. In order to facilitate the analysis of data \\ninformation, the deci sion number algorithm will continue to split branches, and at the same time, the \\nbranches will be trimmed to improve the integrity of the data content [3]. From the point of view of \\ncalculation, the algorithm belongs to the top -down algorithm. During the c ontent analysis process, the \\ncontent of the node is analyzed for the optimal attributes, and then the node is expanded to more than \\ntwo based on the node. This way, you can get comprehensive data information of the split, and the \\nbranching method like a tr ee can also increase the number of samples that can be analyzed, and at the \\nsame time determine the content that contains the most samples in the classification according to the \\nsample number statistics. For example, when analyzing data, you can name the d ecision tree with a \\nlarge amount of data information as the larger tree A, and set the upper limit of branch splitting. If the \\nupper limit is set to 5, the larger tree A is in the classification  after reaching the value of 5, it will \\nstop continuing to sp lit, and at the same time use the pruning strategy to process the larger tree model, \\nso as to refine the data and improve the scientificity of the data analysis results.  \\n3.2. Random Forest Algorithm  \\nSimilar to the decision tree algorithm, in the process of data  calculation, the random forest algorithm \\ncan be used for further processing. The random forest algorithm will play a good role in controlling \\nunreasonable data in the process of actual use. Thereby effectively improving the scientificity of the \\ndata split  results and the accuracy of the data analysis results. At the same time, in the process of data \\nanalysis, multiple sets of classification trees will be created at the same time, and then the unified \\nalgorithm will be used for regression processing. Assumi ng the decision tree is an independent set ai (i \\n= 1,2,3 ... n), then the random forest is the total set A, where A = {a1, a2, a3, ..., an}, where a = 1,2,3 ... \\nn. Each set remains independent, and the distribution is a state of random distribution. When \\nevaluating the classification data information, it will be selected by means of voting. The classification \\nwith the highest number of votes in the voting will output the vector value xi, and then the vector \\ncontent will be classified to calculate the averag e value of different score states and provide data \\nreference for the final judgment [4].  ' metadata={'source': 'E:/Research_on_Machine_Learning_and_Its_Algorithms_an.pdf', 'page': 2}\n",
            "page_content=\"ICSP 2020 \\nJournal of Physics: Conference Series 1544  (2020) 012003 IOP Publishing \\ndoi:10.1088/1742-6596/1544/1/012003 \\n33.3. Artificial Neural Network Algorithm  \\nThe so -called artificial neural network refers to imitating the process of human information \\ntransmission, classifying different data into one neuron, and connecting the data neurons with the help \\nof the Internet to achieve complex memory activities. However, the artificial neural network algorithm \\nis based on this unfolding data analysis process. Among the delineated neur ons, each digital unit has a \\nhigh degree of authenticity, and the data can complete the process of external output. It's just like the \\nhuman body moves forward, stops, and runs. In the artificial neural network algorithm, the data \\ninformation presented has  a variety of application characteristics, and the corresponding analysis \\nprocess can be completed according to actual needs. At present, commonly used artificial neural \\nnetworks include multilayer forward neural networks MLFN, self -organizing neural netwo rks, SOM, \\nand ART [5]. In order to facilitate the analysis and calculation of the data, we can set the weighting \\ncoefficient in advance and then set the output threshold. After the calculated sum exceeds this value, a \\ncertain value is output to the outside , thereby improving the orderliness of the entire numerical \\nanalysis process.  \\n3.4. SVM Algorithm  \\nIn the process of machine learning, the SVM algorithm also belongs to the commonly used algorithm \\ncontent. In the specific application process, the algorithm mainly  relies on the vector machine method \\nto complete the established data analysis work. At the same time, the SVM algorithm will use the \\nautomatic support of the SVM to analyze the data information to be processed, so as to optimize the \\ndata information. In o rder to improve the scientificity of the final data analysis results, in the actual \\nanalysis process, multiple sets of analysis samples need to be collected to determine the sample data of \\nthe boundary value. For example, assuming that the data information  to be processed is H (d), when \\nprocessing it, first, the data information is processed centrally with the help of SVM technology so that \\nit can be completely dispersed. Secondly, the boundary of the H (d) plane is determined from the \\nmaximum distance of t he entire plane. Finally, the vector content of the H (d) plane is analyzed to \\nobtain the output vector, which improves the accuracy of data processing.  \\n3.5. Boosting and Bagging Algorithms  \\nBoosting algorithm as a new type of machine algorithm content, its bigg est application advantage is \\nthat it can complete the accurate processing of data information and improve the accuracy of the final \\nprocessing result. In practice, the function prediction system will be built with the help of Boosting \\nalgorithm, and the sy stem content will be continuously optimized with the help of reinforcement \\nlearning mode, thereby speeding up the processing of data information. AdaBoost is a relatively basic \\napplication in the Boosting algorithm. At the same time, AdaBoost is also an im portant guarantee for \\nthe expansion of the Boosting algorithm. The Bagging algorithm has a high similarity in the data \\nprocessing process. In actual application, the difference is that the Bagging algorithm randomly selects \\nthe training set. And during the  calculation of the function model, the Bagging algorithm does not \\nanalyze the weight content, and we need to continuously optimize the data model with the help of \\ntraining to improve the accuracy of the data analysis results.  \\n3.6. BP Algorithm  \\nThe BP algorithm  belongs to supervised learning. The basic principle of the algorithm is shown in \\nFigure 1. The figure shows a shallow forward neural network computing model, which includes an \\ninput layer, a hidden layer, and an output layer. A large number of neurons are  connected to each other \\nas network nodes. . Each neuron processes the connection strength signals as network weights through \\nan excitation function. By adjusting these connection strengths, the pattern information contained in \\nthe input data is mapped to the output layer.  \" metadata={'source': 'E:/Research_on_Machine_Learning_and_Its_Algorithms_an.pdf', 'page': 3}\n",
            "page_content=\"ICSP 2020 \\nJournal of Physics: Conference Series 1544  (2020) 012003 IOP Publishing \\ndoi:10.1088/1742-6596/1544/1/012003 \\n4 \\nFigure 1 Basic Principles of Algorithm Application  \\nAs can be seen from the above figure, the direction of the information flow of forward propagation \\nis input layer → hidden layer → output layer, and its mathematical model is: \\n. Where Wi and b are their weights and bias parameters, f (W, b; x): R \\n→ R is called the excitation function, and sig -moid can be selected in practical applications , Tanh, \\nReLU and other functions or their variants, hW，b(x) are the network output values. In pract ical \\napplications, the BP algorithm can be implemented by the steepest descent method, Newton method \\nand its improved algorithm, quasi -Newton method and its correction algorithm, etc. At present, the \\nL-BFGS algorithm is most widely used, and non -precise li ne search methods are often used to \\ncomplete the optimization. This method follows Wolfe's criterion and Armijo's criterion, which \\nguarantees the balance between the decline of the cost function and the convergence of the iterative \\nsequence.  \\n4. Research on Ma chine Learning Development  \\n4.1. Theoretical System Continues to Mature  \\nIn the future development process, the mechanical theory system will also be further optimized, and its \\ncontent branches and coverage will also be expanded. In the initial formulation proces s of machine \\nlearning content, its content is mainly applicable to some automation industries, and the content of the \\nentire theoretical system has not been completely sound. In practical application, the content of its \\ntheoretical system is not applicable  in some fields. In response to such situations, the next stage of \\nmachine learning theory will be continuously strengthened, and the degree of refinement of the content \\nwill also be strengthened, which provides convenient conditions for the subsequent pro motion of \\nmachine learning.  \\n4.2. Autonomous Learning Ability is Further Improved  \\nAt present, many enterprises in China have realized the development model of automation, and \\nintelligence is the focus of the next stage of development. In the context of the rapid  development of \\n\" metadata={'source': 'E:/Research_on_Machine_Learning_and_Its_Algorithms_an.pdf', 'page': 4}\n",
            "page_content=\"ICSP 2020 \\nJournal of Physics: Conference Series 1544  (2020) 012003 IOP Publishing \\ndoi:10.1088/1742-6596/1544/1/012003 \\n5Internet technology, the autonomous learning ability of machines will be further strengthened. \\nWhether it is supervised learning or unsupervised learning, the autonomy that machine learning can \\nmaster will continue to increase. In the futur e learning process of the machine, the machine will \\nperform targeted or extensive learning according to its own needs, which also reduces the economic \\ncost of the enterprise to update the equipment structure, thereby laying a solid foundation for the stabl e \\ndevelopment of the enterprise economy.  \\n4.3. Integration of Multiple Digital Technologies  \\nAt this stage, relying on Internet technology has produced many branch technologies, such as Internet \\nof Things technology, digital technology, cloud computing technology , etc. These technologies can \\nprovide many convenient conditions in the process of data calculation. Although these digital \\ntechnologies are still in the initial stage of integration, with the rapid development of technology, the \\nintegration of digital tec hnology is also constantly improving. Besides, in the future development \\nprocess, these technologies will be combined with algorithms to form a new technology application \\nsystem, thereby laying a foundation for the further improvement of data analysis spee d. \\n4.4. Promotion of Personalized Customization Services  \\nWith the continuous improvement of socio -economic level, people's requirements for personalized \\napplications are also constantly rising, which is also one of the important development directions of \\nmachin e learning in the future. With the continuous improvement of the intelligent level of mechanical \\nlearning, different application modules can be set up according to the actual needs of users. After \\nobtaining the user request message, the data module can fil ter out the corresponding information \\ncontent and match the corresponding service content at the same time to meet the user's personalized \\nneeds and improve user service satisfaction.  \\n5. Conclusion  \\nIn summary, machine learning is still in its infancy, and it mainly relies on supervised learning, and \\ndoes not fully overcome weak artificial intelligence. Relevant personnel need to constantly improve \\nthe theoretical foundation and practice of machine learning. In the corresponding scientific field and \\nthe deve lopment of computer technology, we should provide a good environment for machine learning, \\nand the development prospect of machine learning is very broad. In addition, it is also necessary to \\nactively learn from the experiences and lessons of developed cou ntries, set up machine algorithms \\nsuitable for the development of domestic enterprises, and provide technical support for the economic \\ndevelopment of the industry.  \\nReferences  \\n[1] Li Kanghua, Jiang Shan. Machine Learning and Cultural Production Reform —— Based on the \\nPerspective of the Development of AI Technology [J]. Journal of Xiangtan University \\n(Philosophy and Social Sciences), 2020, 44 (01): 74 -79. \\n[2] Jiang Na, Yang Haiyan, Gu Qingchuan, Huang Jiya. Machine learning and its algorithm and \\ndevelopment analysis [J]. Information and Computer Science (Theoretical Edition), 2019 \\n(01): 83 -84 + 87.  \\n[3] Li Zhiwei. Development of machine learning and several learning methods [J]. Industry and \\nScience Forum, 2018, 15 (10): 198 -199. \\n[4] Zhang Run, Wang Y ongbin. Research on machine learning and its algorithm and development [J]. \\nJournal of Communication University of China (Natural Science Edition), 2018, 23 (02): \\n10-18 + 24.  \\n[5] Zhang Changshui. Research on the development of machine learning and data min ing [C].. \\n2010 -2011 Development Report of Control Science and Engineering Discipline.: Chinese \\nSociety of Automation, 2018: 82 -89 + 223.  \" metadata={'source': 'E:/Research_on_Machine_Learning_and_Its_Algorithms_an.pdf', 'page': 5}\n"
          ]
        }
      ],
      "source": [
        "split_data = []\n",
        "for docs in pdf_text:\n",
        "    print(docs)\n",
        "    temp_split = document_splitter.split_text(docs.page_content)\n",
        "    split_data.extend(temp_split)"
      ]
    },
    {
      "cell_type": "code",
      "execution_count": null,
      "id": "53ee4df5",
      "metadata": {
        "id": "53ee4df5"
      },
      "outputs": [],
      "source": [
        "# Create embeddings index with content enabled. The default behavior is to only store indexed vectors.\n",
        "embeddings = Embeddings({\"path\": \"sentence-transformers/nli-mpnet-base-v2\",\n",
        "                         \"content\": True,\n",
        "                         \"objects\": True})"
      ]
    },
    {
      "cell_type": "markdown",
      "id": "c69e0667",
      "metadata": {
        "id": "c69e0667"
      },
      "source": [
        "## CREATING INDEX"
      ]
    },
    {
      "cell_type": "code",
      "execution_count": null,
      "id": "55986822",
      "metadata": {
        "id": "55986822"
      },
      "outputs": [],
      "source": [
        "# Create an index for the list of text\n",
        "embeddings.index([(uid,\n",
        "                   text,\n",
        "                   None) for uid, text in enumerate(split_data)])"
      ]
    },
    {
      "cell_type": "markdown",
      "id": "6941fe0a",
      "metadata": {
        "id": "6941fe0a"
      },
      "source": [
        "## SEMANTIC SEARCH"
      ]
    },
    {
      "cell_type": "code",
      "execution_count": null,
      "id": "84acb927",
      "metadata": {
        "scrolled": true,
        "id": "84acb927",
        "outputId": "517d701a-c941-49fb-a6fa-1a474b8020c5"
      },
      "outputs": [
        {
          "data": {
            "text/plain": [
              "[{'id': '9',\n",
              "  'text': 'complete the required learning content in a supervised environment. Compared with other learning \\nmethods, supervised learning can fully stimulate the generalized learning potential of the machine \\nitself. After completing the system learning, it can help people to solve some classification or',\n",
              "  'score': 0.7316049337387085}]"
            ]
          },
          "execution_count": 31,
          "metadata": {},
          "output_type": "execute_result"
        }
      ],
      "source": [
        "embeddings.search(\"What is supervised learning?\",1)"
      ]
    },
    {
      "cell_type": "markdown",
      "id": "36bd8e70",
      "metadata": {
        "id": "36bd8e70"
      },
      "source": [
        "It appears that the indexed document with 'id': '9' contains information related to supervised learning in the context of machine learning education and training."
      ]
    },
    {
      "cell_type": "markdown",
      "id": "d9a19ad2",
      "metadata": {
        "id": "d9a19ad2"
      },
      "source": [
        "## Get French query from the user"
      ]
    },
    {
      "cell_type": "code",
      "execution_count": null,
      "id": "0791ac57",
      "metadata": {
        "id": "0791ac57",
        "outputId": "73b96829-9db0-4874-8b1c-aacf3e25175f"
      },
      "outputs": [
        {
          "name": "stdout",
          "output_type": "stream",
          "text": [
            "Enter your query in French: Qu'est-ce que l'apprentissage non supervisé?\n"
          ]
        }
      ],
      "source": [
        "french_query = input(\"Enter your query in French: \")"
      ]
    },
    {
      "cell_type": "markdown",
      "id": "d4109625",
      "metadata": {
        "id": "d4109625"
      },
      "source": [
        "What is supervised learning? = \"Qu'est-ce que l'apprentissage supervisé?\"\n",
        "\n",
        "What is UNsupervised learning?= \"Qu'est-ce que l'apprentissage non supervisé ?\""
      ]
    },
    {
      "cell_type": "code",
      "execution_count": null,
      "id": "f954d87c",
      "metadata": {
        "id": "f954d87c"
      },
      "outputs": [],
      "source": [
        "from transformers import MarianTokenizer, MarianMTModel"
      ]
    },
    {
      "cell_type": "code",
      "execution_count": null,
      "id": "21f0ad75",
      "metadata": {
        "scrolled": true,
        "id": "21f0ad75",
        "outputId": "3187b9ed-c35f-4b50-fd96-1f587bf78581"
      },
      "outputs": [
        {
          "name": "stdout",
          "output_type": "stream",
          "text": [
            "Translated Query: What is unsupervised learning?\n",
            "Search Results: [{'id': '11', 'text': 'Corresponding to supervised learning is unsupervised learning. The so -called unsupervised learning \\nmeans that the machine does not  mark the content in a certain direction during the entire learning', 'score': 0.6905990839004517}]\n"
          ]
        }
      ],
      "source": [
        "if not french_query.isascii():  # Check if the query contains non-English characters\n",
        "    # Translate the query from French to English using MarianMT translation model\n",
        "    tokenizer = MarianTokenizer.from_pretrained(\"Helsinki-NLP/opus-mt-fr-en\")\n",
        "    model = MarianMTModel.from_pretrained(\"Helsinki-NLP/opus-mt-fr-en\")\n",
        "\n",
        "    # Tokenize and translate the query\n",
        "    inputs = tokenizer(french_query, return_tensors=\"pt\")\n",
        "    translated_query = model.generate(**inputs)\n",
        "    translated_text = tokenizer.decode(translated_query[0], skip_special_tokens=True)\n",
        "\n",
        "    # Perform semantic search on the translated query\n",
        "    search_results = embeddings.search(translated_text, 1)\n",
        "    print(\"Translated Query:\", translated_text)\n",
        "    print(\"Search Results:\", search_results)\n",
        "else:\n",
        "    # Perform semantic search on the original query\n",
        "    search_results = embeddings.search(french_query, 1)\n",
        "    print(\"Search Results:\", search_results)"
      ]
    },
    {
      "cell_type": "code",
      "execution_count": null,
      "id": "27114a7b",
      "metadata": {
        "id": "27114a7b"
      },
      "outputs": [],
      "source": []
    }
  ],
  "metadata": {
    "kernelspec": {
      "display_name": "Python 3 (ipykernel)",
      "language": "python",
      "name": "python3"
    },
    "language_info": {
      "codemirror_mode": {
        "name": "ipython",
        "version": 3
      },
      "file_extension": ".py",
      "mimetype": "text/x-python",
      "name": "python",
      "nbconvert_exporter": "python",
      "pygments_lexer": "ipython3",
      "version": "3.9.12"
    },
    "colab": {
      "provenance": []
    }
  },
  "nbformat": 4,
  "nbformat_minor": 5
}